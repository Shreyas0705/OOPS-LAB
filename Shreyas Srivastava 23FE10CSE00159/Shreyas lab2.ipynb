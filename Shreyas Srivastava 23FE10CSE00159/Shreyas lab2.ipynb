{
 "cells": [
  {
   "cell_type": "code",
   "execution_count": null,
   "id": "35e713b4-968b-4d89-86fb-db5d11b2d0fd",
   "metadata": {},
   "outputs": [],
   "source": [
    "import math\n",
    "import cmath"
   ]
  },
  {
   "cell_type": "code",
   "execution_count": 17,
   "id": "0b5247db-6834-40b9-b675-8b2bb8f888fe",
   "metadata": {},
   "outputs": [
    {
     "name": "stdin",
     "output_type": "stream",
     "text": [
      "Enter any no. 20\n"
     ]
    },
    {
     "name": "stdout",
     "output_type": "stream",
     "text": [
      "20\n",
      "<class 'int'>\n"
     ]
    },
    {
     "name": "stdin",
     "output_type": "stream",
     "text": [
      "enter a no. 30\n"
     ]
    },
    {
     "name": "stdout",
     "output_type": "stream",
     "text": [
      "30\n",
      "<class 'str'>\n"
     ]
    },
    {
     "name": "stdin",
     "output_type": "stream",
     "text": [
      "enter a no. 40\n"
     ]
    },
    {
     "name": "stdout",
     "output_type": "stream",
     "text": [
      "40.0\n",
      "<class 'float'>\n"
     ]
    }
   ],
   "source": [
    "a=int(input(\"Enter any no.\"))\n",
    "print(a)\n",
    "print(type(a))\n",
    "b=input(\"enter a no.\")\n",
    "print(b)\n",
    "print(type(b))\n",
    "c=float(input(\"enter a no.\"))\n",
    "print(c)\n",
    "print(type(c))"
   ]
  },
  {
   "cell_type": "code",
   "execution_count": 19,
   "id": "c99ecc34-bbbe-44f8-be88-4210b3149941",
   "metadata": {},
   "outputs": [
    {
     "name": "stdin",
     "output_type": "stream",
     "text": [
      "Enter a no. 10\n",
      "Enter no.  2\n"
     ]
    },
    {
     "name": "stdout",
     "output_type": "stream",
     "text": [
      "12.0\n",
      "20.0\n",
      "5.0\n",
      "0.0\n"
     ]
    }
   ],
   "source": [
    "x=float(input(\"Enter a no.\"))\n",
    "y=float(input(\"Enter no. \"))\n",
    "print(x+y)\n",
    "print(x*y)\n",
    "print(x//y)\n",
    "print(x%y)      "
   ]
  },
  {
   "cell_type": "code",
   "execution_count": 1,
   "id": "f2c19a96-31a2-4000-a3ce-db0cac91eac9",
   "metadata": {},
   "outputs": [
    {
     "name": "stdin",
     "output_type": "stream",
     "text": [
      "Integer number 1 5\n",
      "Integer Number 15\n"
     ]
    },
    {
     "name": "stdout",
     "output_type": "stream",
     "text": [
      "Average is 12.5\n",
      "respective deviations are -7.5 2.5\n"
     ]
    }
   ],
   "source": [
    "num1=int(input(\"Integer number 1\"))\n",
    "num2=int(input(\"Integer Number\"))\n",
    "avg=num1+num2/2\n",
    "print(\"Average is\",avg)\n",
    "dev1=num1-avg\n",
    "dev2=num2-avg\n",
    "print(\"respective deviations are\",dev1,dev2)"
   ]
  },
  {
   "cell_type": "code",
   "execution_count": null,
   "id": "8d94f63d-6e3b-4f7e-bd1e-af406ad99019",
   "metadata": {},
   "outputs": [],
   "source": []
  }
 ],
 "metadata": {
  "kernelspec": {
   "display_name": "Python 3 (ipykernel)",
   "language": "python",
   "name": "python3"
  },
  "language_info": {
   "codemirror_mode": {
    "name": "ipython",
    "version": 3
   },
   "file_extension": ".py",
   "mimetype": "text/x-python",
   "name": "python",
   "nbconvert_exporter": "python",
   "pygments_lexer": "ipython3",
   "version": "3.12.4"
  }
 },
 "nbformat": 4,
 "nbformat_minor": 5
}
