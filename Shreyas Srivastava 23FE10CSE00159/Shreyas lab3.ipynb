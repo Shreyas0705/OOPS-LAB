{
 "cells": [
  {
   "cell_type": "code",
   "execution_count": 1,
   "id": "13c4953d-1cc5-47b3-a43b-05d8637f4e53",
   "metadata": {},
   "outputs": [
    {
     "name": "stdin",
     "output_type": "stream",
     "text": [
      "x coordinate 4\n",
      "y coordinate 2\n",
      "x coordinate 4\n",
      "y coordinate 2\n"
     ]
    },
    {
     "name": "stdout",
     "output_type": "stream",
     "text": [
      "0.0\n"
     ]
    }
   ],
   "source": [
    "#2 points\n",
    "p1=[]\n",
    "p2=[]\n",
    "x1=int(input(\"x coordinate\"))\n",
    "p1.append(x1)\n",
    "y1=int(input(\"y coordinate\"))\n",
    "p1.append(y1)\n",
    "x2=int(input(\"x coordinate\"))\n",
    "p2.append(x2)\n",
    "y2=int(input(\"y coordinate\"))\n",
    "p2.append(y2)\n",
    "dist=((p2[0]**2-p1[0]**2)+(p2[1]**2-p1[1]**2))**0.5\n",
    "print(dist)"
   ]
  },
  {
   "cell_type": "code",
   "execution_count": 11,
   "id": "3af3b681-2f67-4d81-bdbf-d0a6ef836708",
   "metadata": {},
   "outputs": [
    {
     "name": "stdin",
     "output_type": "stream",
     "text": [
      "Radius of circle is: 25\n"
     ]
    },
    {
     "name": "stdout",
     "output_type": "stream",
     "text": [
      "Circumference and Area respectively is 157.0 3.14\n"
     ]
    }
   ],
   "source": [
    "import Lab3_pi as constant\n",
    "r=int(input(\"Radius of circle is:\"))\n",
    "circum=2*(constant.pi)*r\n",
    "area=(constant.pi)*(r**2)\n",
    "print(\"Circumference and Area respectively is\",circum,pi)"
   ]
  },
  {
   "cell_type": "code",
   "execution_count": 7,
   "id": "5ce45e50-7e0e-45bf-9a54-bb848f9e4257",
   "metadata": {},
   "outputs": [
    {
     "name": "stdin",
     "output_type": "stream",
     "text": [
      "Enter a number 20\n"
     ]
    },
    {
     "name": "stdout",
     "output_type": "stream",
     "text": [
      "Even\n"
     ]
    }
   ],
   "source": [
    "#Even odd\n",
    "x=int(input(\"Enter a number\"))\n",
    "if x%2==0:\n",
    "    print(\"Even\")\n",
    "else:\n",
    "    print(\"Odd\")"
   ]
  },
  {
   "cell_type": "code",
   "execution_count": 9,
   "id": "aa49196f-c901-4741-a37f-f74f7d002b79",
   "metadata": {},
   "outputs": [
    {
     "ename": "SyntaxError",
     "evalue": "incomplete input (3545457571.py, line 4)",
     "output_type": "error",
     "traceback": [
      "\u001b[1;36m  Cell \u001b[1;32mIn[9], line 4\u001b[1;36m\u001b[0m\n\u001b[1;33m    for i in range(0,25):\u001b[0m\n\u001b[1;37m                         ^\u001b[0m\n\u001b[1;31mSyntaxError\u001b[0m\u001b[1;31m:\u001b[0m incomplete input\n"
     ]
    }
   ],
   "source": [
    "#25 elements\n",
    "l=[]\n",
    "print(\"Input 25 Numbers\")\n",
    "for i in range(0,25):\n",
    "    l.append(int(input(\"\"))\n",
    "for i in range(0,25):\n",
    "    sum=sum+l[i]\n",
    "mean=sum/25\n",
    "print(\"Mean is\",mean)\n",
    "n = len(l) \n",
    "l.sort() \n",
    "if n % 2 == 0: \n",
    "    median1 = l[n//2] \n",
    "    median2 = l[n//2 - 1] \n",
    "    median = (median1 + median2)/2\n",
    "else: \n",
    "    median = n_num[n//2] \n",
    "print(\"Median is: \" + str(median)) \n",
    "\n",
    "\n",
    "             \n",
    "    "
   ]
  },
  {
   "cell_type": "code",
   "execution_count": null,
   "id": "e66feda8-822d-42e3-ab74-2f8dcac1256f",
   "metadata": {},
   "outputs": [],
   "source": [
    "num=25\n",
    "listA[]\n",
    "for i in range(1,num):\n",
    "    listA[i-1]=l[(i-1)*5:i*5]\n",
    "    "
   ]
  }
 ],
 "metadata": {
  "kernelspec": {
   "display_name": "Python 3 (ipykernel)",
   "language": "python",
   "name": "python3"
  },
  "language_info": {
   "codemirror_mode": {
    "name": "ipython",
    "version": 3
   },
   "file_extension": ".py",
   "mimetype": "text/x-python",
   "name": "python",
   "nbconvert_exporter": "python",
   "pygments_lexer": "ipython3",
   "version": "3.12.4"
  }
 },
 "nbformat": 4,
 "nbformat_minor": 5
}
