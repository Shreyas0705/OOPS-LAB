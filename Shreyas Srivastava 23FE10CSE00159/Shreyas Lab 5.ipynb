{
 "cells": [
  {
   "cell_type": "code",
   "execution_count": 5,
   "id": "52e1ced3-0397-4a71-b070-67e3dfce8383",
   "metadata": {},
   "outputs": [
    {
     "name": "stdin",
     "output_type": "stream",
     "text": [
      "Enter a Number 175\n"
     ]
    },
    {
     "name": "stdout",
     "output_type": "stream",
     "text": [
      "Disarium\n"
     ]
    }
   ],
   "source": [
    "#Disarium Number\n",
    "n=int(input(\"Enter a Number\"))\n",
    "k=n\n",
    "count=0\n",
    "while n!=0:\n",
    "    count+=1\n",
    "    n=n//10\n",
    "n=k\n",
    "sum=0\n",
    "while n!=0:\n",
    "    sum=sum+(n%10)**count\n",
    "    count=count-1\n",
    "    n=n//10\n",
    "if sum==k:\n",
    "    print(\"Disarium\")\n",
    "else:\n",
    "    print(\"Not\")"
   ]
  },
  {
   "cell_type": "code",
   "execution_count": 7,
   "id": "cc1bb5e1-c275-4e75-821d-0530f1c14b83",
   "metadata": {},
   "outputs": [
    {
     "name": "stdin",
     "output_type": "stream",
     "text": [
      "Enter a Number 21\n"
     ]
    },
    {
     "name": "stdout",
     "output_type": "stream",
     "text": [
      "Harshad Number\n"
     ]
    }
   ],
   "source": [
    "#Harshad Number\n",
    "n=int(input(\"Enter a Number\"))\n",
    "k=n\n",
    "sum=0\n",
    "while n!=0:\n",
    "    sum=sum+(n%10)\n",
    "    n=n//10\n",
    "if (k%sum)==0:\n",
    "    print(\"Harshad Number\")\n",
    "else:\n",
    "    print(\"Not\")"
   ]
  },
  {
   "cell_type": "code",
   "execution_count": 11,
   "id": "211a6ba9-4099-49de-a28f-4d41f02cbcbb",
   "metadata": {},
   "outputs": [
    {
     "name": "stdout",
     "output_type": "stream",
     "text": [
      "1\n",
      "2\n",
      "3\n",
      "4\n",
      "5\n",
      "6\n",
      "7\n",
      "8\n",
      "9\n",
      "153\n",
      "370\n",
      "371\n",
      "407\n"
     ]
    }
   ],
   "source": [
    "#Armstrong Number\n",
    "for n in range(1,1001):\n",
    "    k=n\n",
    "    count=0\n",
    "    while n!=0:\n",
    "        count+=1\n",
    "        n=n//10\n",
    "    n=k\n",
    "    sum=0\n",
    "    while n!=0:\n",
    "        sum=sum+(n%10)**count\n",
    "        n=n//10\n",
    "    if k==sum:\n",
    "        print(k)\n",
    "     "
   ]
  },
  {
   "cell_type": "code",
   "execution_count": 17,
   "id": "5c79ced3-ec85-4bf8-8072-fb32611b8c4d",
   "metadata": {},
   "outputs": [
    {
     "name": "stdout",
     "output_type": "stream",
     "text": [
      "0\n",
      "1\n",
      "1\n",
      "2\n",
      "3\n",
      "5\n",
      "8\n",
      "13\n",
      "21\n",
      "34\n"
     ]
    }
   ],
   "source": [
    "#Fibonacci series\n",
    "a=0\n",
    "b=1\n",
    "for i in range(10):\n",
    "    c=a+b\n",
    "    print(a)\n",
    "    a=b\n",
    "    b=c\n",
    "    "
   ]
  },
  {
   "cell_type": "code",
   "execution_count": 19,
   "id": "d6c0d990-638e-4409-bbff-8e20f79559bf",
   "metadata": {},
   "outputs": [
    {
     "name": "stdin",
     "output_type": "stream",
     "text": [
      "Enter a Number 100\n"
     ]
    },
    {
     "name": "stdout",
     "output_type": "stream",
     "text": [
      "1\n"
     ]
    }
   ],
   "source": [
    "#Reverse\n",
    "n=int(input(\"Enter a Number\"))\n",
    "k=n\n",
    "rev=0\n",
    "while n!=0:\n",
    "    rev=rev*10+(n%10)\n",
    "    n=n//10\n",
    "print(rev)"
   ]
  },
  {
   "cell_type": "code",
   "execution_count": 21,
   "id": "7cae10db-4c7a-4554-b6c3-44d93db01b0e",
   "metadata": {},
   "outputs": [
    {
     "name": "stdin",
     "output_type": "stream",
     "text": [
      "Enter a Number 101\n"
     ]
    },
    {
     "name": "stdout",
     "output_type": "stream",
     "text": [
      "Palindrome Number\n"
     ]
    }
   ],
   "source": [
    "#Palindrome\n",
    "n=int(input(\"Enter a Number\"))\n",
    "k=n\n",
    "rev=0\n",
    "while n!=0:\n",
    "    rev=rev*10+(n%10)\n",
    "    n=n//10\n",
    "if k==rev:\n",
    "    print(\"Palindrome Number\")\n",
    "else:\n",
    "    print(\"Not\")"
   ]
  },
  {
   "cell_type": "code",
   "execution_count": 35,
   "id": "e9bedb89-c16b-4e4e-b9ab-79e2c5cd0acf",
   "metadata": {},
   "outputs": [
    {
     "name": "stdout",
     "output_type": "stream",
     "text": [
      "1\n",
      "22\n",
      "333\n",
      "4444\n",
      "55555\n"
     ]
    }
   ],
   "source": [
    "#Pattern\n",
    "for i in range(1,6):\n",
    "    for j in range(1,i+1):\n",
    "        print(i,end=\"\")\n",
    "    print()"
   ]
  },
  {
   "cell_type": "code",
   "execution_count": 33,
   "id": "04df4196-4e1b-4c71-912d-dd1bb3529f22",
   "metadata": {},
   "outputs": [
    {
     "name": "stdout",
     "output_type": "stream",
     "text": [
      "1\n",
      "12\n",
      "123\n",
      "1234\n",
      "12345\n"
     ]
    }
   ],
   "source": [
    "#Pattern\n",
    "for i in range(1,6):\n",
    "    for j in range(1,i+1):\n",
    "        print(j,end=\"\")\n",
    "    print()"
   ]
  },
  {
   "cell_type": "code",
   "execution_count": null,
   "id": "dd0b67d7-1f86-4536-b201-f4f930b3cb94",
   "metadata": {},
   "outputs": [],
   "source": []
  }
 ],
 "metadata": {
  "kernelspec": {
   "display_name": "Python 3 (ipykernel)",
   "language": "python",
   "name": "python3"
  },
  "language_info": {
   "codemirror_mode": {
    "name": "ipython",
    "version": 3
   },
   "file_extension": ".py",
   "mimetype": "text/x-python",
   "name": "python",
   "nbconvert_exporter": "python",
   "pygments_lexer": "ipython3",
   "version": "3.12.4"
  }
 },
 "nbformat": 4,
 "nbformat_minor": 5
}
