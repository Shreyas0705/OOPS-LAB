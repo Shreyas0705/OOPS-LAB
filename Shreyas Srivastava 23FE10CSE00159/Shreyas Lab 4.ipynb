{
 "cells": [
  {
   "cell_type": "code",
   "execution_count": null,
   "id": "8a99b7b6-a02a-4eb2-b7ca-eb4707a3bd65",
   "metadata": {},
   "outputs": [],
   "source": [
    "str=\"Shreyas Srivastava 23FE10CSE00159 Dad\"\n"
   ]
  },
  {
   "cell_type": "code",
   "execution_count": 7,
   "id": "6376a667-a840-4305-9e8b-4019e5eec122",
   "metadata": {},
   "outputs": [
    {
     "name": "stdin",
     "output_type": "stream",
     "text": [
      "Enter a Number 5\n"
     ]
    },
    {
     "name": "stdout",
     "output_type": "stream",
     "text": [
      "prime\n"
     ]
    }
   ],
   "source": [
    "n=int(input(\"Enter a Number\"))\n",
    "if n==1:\n",
    "    print(\"Not prime\")\n",
    "flag=0    \n",
    "for i in range(2,(n//2)+1):\n",
    "    if n%i==0:\n",
    "        print(\"Not prime\")\n",
    "        flag=0\n",
    "        break\n",
    "    else:\n",
    "        flag=1\n",
    "    if flag==1:\n",
    "     print(\"prime\")"
   ]
  },
  {
   "cell_type": "code",
   "execution_count": 9,
   "id": "88eef37d-13e9-4868-857f-19db592a55d5",
   "metadata": {},
   "outputs": [
    {
     "name": "stdin",
     "output_type": "stream",
     "text": [
      "Enter num 101\n"
     ]
    },
    {
     "name": "stdout",
     "output_type": "stream",
     "text": [
      "Palin\n"
     ]
    }
   ],
   "source": [
    "n=int(input(\"Enter a Number\"))\n",
    "rev=0\n",
    "k=n\n",
    "while(n>0):\n",
    "    rev=rev*10+n%10\n",
    "    n=n//10\n",
    "if k==rev:\n",
    "    print(\"Palin\")\n",
    "else:\n",
    "    print(\"Not Palin\")"
   ]
  },
  {
   "cell_type": "code",
   "execution_count": 15,
   "id": "6cca22b2-0ba4-457f-be8a-01334d0d25d0",
   "metadata": {},
   "outputs": [
    {
     "name": "stdin",
     "output_type": "stream",
     "text": [
      "Enter Percentage 20\n"
     ]
    },
    {
     "name": "stdout",
     "output_type": "stream",
     "text": [
      "F\n"
     ]
    }
   ],
   "source": [
    "p=int(input(\"Enter Percentage\"))\n",
    "if p>90:\n",
    "    print(\"A+\")\n",
    "elif p>80:\n",
    "    print(\"A\")\n",
    "elif p>70:\n",
    "    print(\"B\")\n",
    "elif p>60:\n",
    "    print(\"C\")\n",
    "elif p>50: \n",
    "    print(\"D\")\n",
    "else:\n",
    "    print(\"F\")\n",
    "    "
   ]
  },
  {
   "cell_type": "code",
   "execution_count": 28,
   "id": "d64752ef-57c3-406a-8b3c-62d191836e22",
   "metadata": {},
   "outputs": [
    {
     "name": "stdin",
     "output_type": "stream",
     "text": [
      "Enter a Number 1 20\n",
      "Enter a Number 2 10\n",
      "1=+\n",
      " 2=-\n",
      "3=%\n",
      "4=\" 1\n"
     ]
    },
    {
     "name": "stdout",
     "output_type": "stream",
     "text": [
      "Sum is 30\n"
     ]
    }
   ],
   "source": [
    "n1=int(input(\"Enter a Number 1\"))\n",
    "n2=int(input(\"Enter a Number 2\"))\n",
    "op=int(input(\"1=+\\n 2=-\\n3=%\\n4=\\\"\"))\n",
    "if op==1:\n",
    "    print(\"Sum is\",(n1+n2))\n",
    "if op==2:\n",
    "    print(\"Sub is\",(n1-n2))\n",
    "if op==3:\n",
    "    print(\"Mod is\",(n1%n2))\n",
    "if op==4:\n",
    "    print(\"Div is\",(n1//n2))"
   ]
  },
  {
   "cell_type": "code",
   "execution_count": null,
   "id": "d1ae5e86-55de-4f71-a3c3-24e01c44f22c",
   "metadata": {},
   "outputs": [],
   "source": []
  },
  {
   "cell_type": "code",
   "execution_count": null,
   "id": "c2aa05cb-f090-4133-9d9e-f13d386ed4a3",
   "metadata": {},
   "outputs": [],
   "source": []
  }
 ],
 "metadata": {
  "kernelspec": {
   "display_name": "Python 3 (ipykernel)",
   "language": "python",
   "name": "python3"
  },
  "language_info": {
   "codemirror_mode": {
    "name": "ipython",
    "version": 3
   },
   "file_extension": ".py",
   "mimetype": "text/x-python",
   "name": "python",
   "nbconvert_exporter": "python",
   "pygments_lexer": "ipython3",
   "version": "3.12.4"
  }
 },
 "nbformat": 4,
 "nbformat_minor": 5
}
