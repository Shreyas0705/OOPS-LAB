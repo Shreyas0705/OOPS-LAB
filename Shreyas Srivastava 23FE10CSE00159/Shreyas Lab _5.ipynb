{
 "cells": [
  {
   "cell_type": "code",
   "execution_count": null,
   "id": "574fe462-f86f-47f8-938d-e2c84bbb3bf5",
   "metadata": {},
   "outputs": [],
   "source": [
    "# Function to triple a number\n",
    "def triple(n):\n",
    "    return n * 3\n",
    "\n",
    "# List of integers\n",
    "numbers = [1, 2, 3, 4, 5]\n",
    "\n",
    "# Using map to apply the triple function to each element in the list\n",
    "tripled_numbers = list(map(triple, numbers))\n",
    "\n",
    "# Print the result\n",
    "print(tripled_numbers)"
   ]
  }
 ],
 "metadata": {
  "kernelspec": {
   "display_name": "Python 3 (ipykernel)",
   "language": "python",
   "name": "python3"
  },
  "language_info": {
   "codemirror_mode": {
    "name": "ipython",
    "version": 3
   },
   "file_extension": ".py",
   "mimetype": "text/x-python",
   "name": "python",
   "nbconvert_exporter": "python",
   "pygments_lexer": "ipython3",
   "version": "3.12.4"
  }
 },
 "nbformat": 4,
 "nbformat_minor": 5
}
